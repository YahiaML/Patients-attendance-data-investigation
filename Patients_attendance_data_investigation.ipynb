{
  "nbformat": 4,
  "nbformat_minor": 0,
  "metadata": {
    "colab": {
      "name": "Patients attendance data investigation.ipynb",
      "provenance": [],
      "collapsed_sections": [
        "M8-2TyUxXHS5",
        "iUXEwesrX7kp"
      ],
      "authorship_tag": "ABX9TyMKRKDQ5vMOaa+DGoqG+4Ji",
      "include_colab_link": true
    },
    "kernelspec": {
      "name": "python3",
      "display_name": "Python 3"
    },
    "language_info": {
      "name": "python"
    }
  },
  "cells": [
    {
      "cell_type": "markdown",
      "metadata": {
        "id": "view-in-github",
        "colab_type": "text"
      },
      "source": [
        "<a href=\"https://colab.research.google.com/github/YahiaML/Patients-attendance-data-investigation/blob/main/Patients_attendance_data_investigation.ipynb\" target=\"_parent\"><img src=\"https://colab.research.google.com/assets/colab-badge.svg\" alt=\"Open In Colab\"/></a>"
      ]
    },
    {
      "cell_type": "markdown",
      "metadata": {
        "id": "TSioarcF50_4"
      },
      "source": [
        "#Project: Investigate a Dataset - [No-show appointments]\n",
        "\n",
        "\n",
        "**Note:**\n",
        "\n",
        "This data was cleaned from original data on Kaggle: https://www.kaggle.com/joniarroba/noshowappointments."
      ]
    },
    {
      "cell_type": "markdown",
      "metadata": {
        "id": "WVYvFClM5_l9"
      },
      "source": [
        "#Introduction"
      ]
    },
    {
      "cell_type": "markdown",
      "metadata": {
        "id": "QFMBEIKcH0GP"
      },
      "source": [
        "Many patients book the appointment with doctor then didn't show up on scheduled day. \n",
        "\n",
        "So, the objective of this analysis is to investigate the reason why some patients do not show up to their scheduled appointments."
      ]
    },
    {
      "cell_type": "markdown",
      "metadata": {
        "id": "u4JVHMhM6KOE"
      },
      "source": [
        "## Dataset Description"
      ]
    },
    {
      "cell_type": "markdown",
      "metadata": {
        "id": "Jsh3jkT26M_U"
      },
      "source": [
        "**No-show appointments** is a dataset that includes details of appointments of Brazilian people with the doctor. Data of appointments was combined from more than 45 clinics and hospitals at the municipal level in Brazil between 29/4/2016 and 6/6/2016. it's containing 14 columns for 110527 patient cases.\n",
        "\n",
        "The columns are :\n",
        "\n",
        "\n",
        "\n",
        "```\n",
        "['PatientId', 'AppointmentID', 'Gender', 'ScheduledDay',\n",
        " 'AppointmentDay', 'Age', 'Neighbourhood', 'Scholarship',\n",
        " 'Hipertension', 'Diabetes', 'Alcoholism', 'Handcap',\n",
        " 'SMS_received', 'No-show']\n",
        "```\n",
        "\n",
        "Columns description:\n",
        "```\n",
        "    PatientId: Identification of a patient\n",
        "    AppointmentID: Identification of each appointment\n",
        "    Gender: Male or Female.\n",
        "    AppointmentDay: The day of the actual appointment, when they have to visit the doctor.\n",
        "    ScheduledDay: The day someone called or registered the appointment, this is before appointment of course.\n",
        "    Age: How old is the patient.\n",
        "    Neighbourhood: Where the appointment takes place.\n",
        "    Scholarship: True of False .  indicates whether or not the patient is enrolled in Brasilian welfare program Bolsa Família    \n",
        "    Hipertension: True or False\n",
        "    Diabetes: True or False\n",
        "    Alcoholism: True or False\n",
        "    Handcap: True or False\n",
        "    SMS_received: 1 or more messages sent to the patient.\n",
        "    No-show: True or False.\n",
        "```\n",
        "\n",
        "***These columns can be classified as the following :***\n",
        "\n",
        "**1.** Significant columns for this analysis :\n",
        "```\n",
        "['No-show' ]\n",
        "```\n",
        "\n",
        "**2.** Helpful columns for this analysis :\n",
        "```\n",
        "['Gender', 'ScheduledDay', 'AppointmentDay', 'Age', 'Neighbourhood', 'Scholarship',\n",
        " 'Hipertension', 'Diabetes', 'Alcoholism', 'Handcap', 'SMS_received']\n",
        "```\n",
        "**3.** Columns have nothing to provide us for this analysis: \n",
        "\n",
        "```\n",
        "[\"PatientId\", \t\"AppointmentID\",]\n",
        "```\n",
        "\n"
      ]
    },
    {
      "cell_type": "markdown",
      "metadata": {
        "id": "n8_yGCBi_wmJ"
      },
      "source": [
        "##Question for Analysis"
      ]
    },
    {
      "cell_type": "markdown",
      "metadata": {
        "id": "ejUTutAz_1vj"
      },
      "source": [
        "Why some patients do not show up to their scheduled appointments ?"
      ]
    },
    {
      "cell_type": "markdown",
      "metadata": {
        "id": "296z3tic7Xy7"
      },
      "source": [
        "# Data Wrangling"
      ]
    },
    {
      "cell_type": "markdown",
      "metadata": {
        "id": "wEotL2Nztwdf"
      },
      "source": [
        "## General Properties"
      ]
    },
    {
      "cell_type": "code",
      "metadata": {
        "id": "yzVHwhrW3k_0"
      },
      "source": [
        "import pandas as pd\n",
        "import matplotlib.pyplot as plt\n",
        "import seaborn as sns"
      ],
      "execution_count": null,
      "outputs": []
    },
    {
      "cell_type": "code",
      "metadata": {
        "id": "4lV-540Q30J0"
      },
      "source": [
        "df = pd.read_csv(\"/content/noshowappointments-kagglev2-may-2016.csv\")"
      ],
      "execution_count": null,
      "outputs": []
    },
    {
      "cell_type": "markdown",
      "metadata": {
        "id": "AHqxxkf7t1uM"
      },
      "source": [
        "**Having a general look at the data**"
      ]
    },
    {
      "cell_type": "code",
      "metadata": {
        "colab": {
          "base_uri": "https://localhost:8080/",
          "height": 313
        },
        "id": "8Zws0dfv36Dw",
        "outputId": "b31b262c-8431-4eb6-da84-2a393f2c7045"
      },
      "source": [
        "df.head()"
      ],
      "execution_count": null,
      "outputs": [
        {
          "output_type": "execute_result",
          "data": {
            "text/html": [
              "<div>\n",
              "<style scoped>\n",
              "    .dataframe tbody tr th:only-of-type {\n",
              "        vertical-align: middle;\n",
              "    }\n",
              "\n",
              "    .dataframe tbody tr th {\n",
              "        vertical-align: top;\n",
              "    }\n",
              "\n",
              "    .dataframe thead th {\n",
              "        text-align: right;\n",
              "    }\n",
              "</style>\n",
              "<table border=\"1\" class=\"dataframe\">\n",
              "  <thead>\n",
              "    <tr style=\"text-align: right;\">\n",
              "      <th></th>\n",
              "      <th>PatientId</th>\n",
              "      <th>AppointmentID</th>\n",
              "      <th>Gender</th>\n",
              "      <th>ScheduledDay</th>\n",
              "      <th>AppointmentDay</th>\n",
              "      <th>Age</th>\n",
              "      <th>Neighbourhood</th>\n",
              "      <th>Scholarship</th>\n",
              "      <th>Hipertension</th>\n",
              "      <th>Diabetes</th>\n",
              "      <th>Alcoholism</th>\n",
              "      <th>Handcap</th>\n",
              "      <th>SMS_received</th>\n",
              "      <th>No-show</th>\n",
              "    </tr>\n",
              "  </thead>\n",
              "  <tbody>\n",
              "    <tr>\n",
              "      <th>0</th>\n",
              "      <td>2.987250e+13</td>\n",
              "      <td>5642903</td>\n",
              "      <td>F</td>\n",
              "      <td>2016-04-29T18:38:08Z</td>\n",
              "      <td>2016-04-29T00:00:00Z</td>\n",
              "      <td>62</td>\n",
              "      <td>JARDIM DA PENHA</td>\n",
              "      <td>0</td>\n",
              "      <td>1</td>\n",
              "      <td>0</td>\n",
              "      <td>0</td>\n",
              "      <td>0</td>\n",
              "      <td>0</td>\n",
              "      <td>No</td>\n",
              "    </tr>\n",
              "    <tr>\n",
              "      <th>1</th>\n",
              "      <td>5.589980e+14</td>\n",
              "      <td>5642503</td>\n",
              "      <td>M</td>\n",
              "      <td>2016-04-29T16:08:27Z</td>\n",
              "      <td>2016-04-29T00:00:00Z</td>\n",
              "      <td>56</td>\n",
              "      <td>JARDIM DA PENHA</td>\n",
              "      <td>0</td>\n",
              "      <td>0</td>\n",
              "      <td>0</td>\n",
              "      <td>0</td>\n",
              "      <td>0</td>\n",
              "      <td>0</td>\n",
              "      <td>No</td>\n",
              "    </tr>\n",
              "    <tr>\n",
              "      <th>2</th>\n",
              "      <td>4.262960e+12</td>\n",
              "      <td>5642549</td>\n",
              "      <td>F</td>\n",
              "      <td>2016-04-29T16:19:04Z</td>\n",
              "      <td>2016-04-29T00:00:00Z</td>\n",
              "      <td>62</td>\n",
              "      <td>MATA DA PRAIA</td>\n",
              "      <td>0</td>\n",
              "      <td>0</td>\n",
              "      <td>0</td>\n",
              "      <td>0</td>\n",
              "      <td>0</td>\n",
              "      <td>0</td>\n",
              "      <td>No</td>\n",
              "    </tr>\n",
              "    <tr>\n",
              "      <th>3</th>\n",
              "      <td>8.679510e+11</td>\n",
              "      <td>5642828</td>\n",
              "      <td>F</td>\n",
              "      <td>2016-04-29T17:29:31Z</td>\n",
              "      <td>2016-04-29T00:00:00Z</td>\n",
              "      <td>8</td>\n",
              "      <td>PONTAL DE CAMBURI</td>\n",
              "      <td>0</td>\n",
              "      <td>0</td>\n",
              "      <td>0</td>\n",
              "      <td>0</td>\n",
              "      <td>0</td>\n",
              "      <td>0</td>\n",
              "      <td>No</td>\n",
              "    </tr>\n",
              "    <tr>\n",
              "      <th>4</th>\n",
              "      <td>8.841190e+12</td>\n",
              "      <td>5642494</td>\n",
              "      <td>F</td>\n",
              "      <td>2016-04-29T16:07:23Z</td>\n",
              "      <td>2016-04-29T00:00:00Z</td>\n",
              "      <td>56</td>\n",
              "      <td>JARDIM DA PENHA</td>\n",
              "      <td>0</td>\n",
              "      <td>1</td>\n",
              "      <td>1</td>\n",
              "      <td>0</td>\n",
              "      <td>0</td>\n",
              "      <td>0</td>\n",
              "      <td>No</td>\n",
              "    </tr>\n",
              "  </tbody>\n",
              "</table>\n",
              "</div>"
            ],
            "text/plain": [
              "      PatientId  AppointmentID Gender  ... Handcap SMS_received  No-show\n",
              "0  2.987250e+13        5642903      F  ...       0            0       No\n",
              "1  5.589980e+14        5642503      M  ...       0            0       No\n",
              "2  4.262960e+12        5642549      F  ...       0            0       No\n",
              "3  8.679510e+11        5642828      F  ...       0            0       No\n",
              "4  8.841190e+12        5642494      F  ...       0            0       No\n",
              "\n",
              "[5 rows x 14 columns]"
            ]
          },
          "metadata": {},
          "execution_count": 3
        }
      ]
    },
    {
      "cell_type": "markdown",
      "metadata": {
        "id": "8wyKfA-rvIcA"
      },
      "source": [
        "* Columns `[\"PatientId\",     \"AppointmentID\"]` are useless\n",
        "* Column `[\"Handcap\"]` name needs fixing \n"
      ]
    },
    {
      "cell_type": "markdown",
      "metadata": {
        "id": "qhbLvS1MuMHY"
      },
      "source": [
        "**Having a look at the data type of each column**"
      ]
    },
    {
      "cell_type": "code",
      "metadata": {
        "colab": {
          "base_uri": "https://localhost:8080/"
        },
        "id": "B2ON8s7M7K89",
        "outputId": "8c890231-7f51-42cc-9e0e-689156e8b1ad"
      },
      "source": [
        "df.info()"
      ],
      "execution_count": null,
      "outputs": [
        {
          "output_type": "stream",
          "name": "stdout",
          "text": [
            "<class 'pandas.core.frame.DataFrame'>\n",
            "RangeIndex: 110527 entries, 0 to 110526\n",
            "Data columns (total 14 columns):\n",
            " #   Column          Non-Null Count   Dtype  \n",
            "---  ------          --------------   -----  \n",
            " 0   PatientId       110527 non-null  float64\n",
            " 1   AppointmentID   110527 non-null  int64  \n",
            " 2   Gender          110527 non-null  object \n",
            " 3   ScheduledDay    110527 non-null  object \n",
            " 4   AppointmentDay  110527 non-null  object \n",
            " 5   Age             110527 non-null  int64  \n",
            " 6   Neighbourhood   110527 non-null  object \n",
            " 7   Scholarship     110527 non-null  int64  \n",
            " 8   Hipertension    110527 non-null  int64  \n",
            " 9   Diabetes        110527 non-null  int64  \n",
            " 10  Alcoholism      110527 non-null  int64  \n",
            " 11  Handcap         110527 non-null  int64  \n",
            " 12  SMS_received    110527 non-null  int64  \n",
            " 13  No-show         110527 non-null  object \n",
            "dtypes: float64(1), int64(8), object(5)\n",
            "memory usage: 11.8+ MB\n"
          ]
        }
      ]
    },
    {
      "cell_type": "markdown",
      "metadata": {
        "id": "yCYKHxXxwAia"
      },
      "source": [
        "* **ScheduledDay, AppointmentDay** types need to be changed\n"
      ]
    },
    {
      "cell_type": "markdown",
      "metadata": {
        "id": "MG4uqrwY4ClE"
      },
      "source": [
        "**Checking if there is any missing data**"
      ]
    },
    {
      "cell_type": "code",
      "metadata": {
        "colab": {
          "base_uri": "https://localhost:8080/"
        },
        "id": "iVDl4RyMugle",
        "outputId": "0ea1cd94-94bc-4115-ad99-a2a2fe92fe63"
      },
      "source": [
        "df.isnull().sum()"
      ],
      "execution_count": null,
      "outputs": [
        {
          "output_type": "execute_result",
          "data": {
            "text/plain": [
              "PatientId         0\n",
              "AppointmentID     0\n",
              "Gender            0\n",
              "ScheduledDay      0\n",
              "AppointmentDay    0\n",
              "Age               0\n",
              "Neighbourhood     0\n",
              "Scholarship       0\n",
              "Hipertension      0\n",
              "Diabetes          0\n",
              "Alcoholism        0\n",
              "Handcap           0\n",
              "SMS_received      0\n",
              "No-show           0\n",
              "dtype: int64"
            ]
          },
          "metadata": {},
          "execution_count": 5
        }
      ]
    },
    {
      "cell_type": "markdown",
      "metadata": {
        "id": "Zsl6oLSI4DuH"
      },
      "source": [
        "* Each column contains 1 NAN value except PatientId"
      ]
    },
    {
      "cell_type": "markdown",
      "metadata": {
        "id": "SMvQmM294-nZ"
      },
      "source": [
        "**Checking if there is any duplicate rows**"
      ]
    },
    {
      "cell_type": "code",
      "metadata": {
        "colab": {
          "base_uri": "https://localhost:8080/"
        },
        "id": "JMemkUg4uZ8_",
        "outputId": "6a75aef4-352f-4f17-d7dd-07fc214a1e01"
      },
      "source": [
        "sum(df.duplicated())"
      ],
      "execution_count": null,
      "outputs": [
        {
          "output_type": "execute_result",
          "data": {
            "text/plain": [
              "0"
            ]
          },
          "metadata": {},
          "execution_count": 6
        }
      ]
    },
    {
      "cell_type": "markdown",
      "metadata": {
        "id": "wzgKyzLXxa11"
      },
      "source": [
        "* There is no Duplicate rows"
      ]
    },
    {
      "cell_type": "markdown",
      "metadata": {
        "id": "rX30TtwAKc8_"
      },
      "source": [
        "***Wrangling Conclusions :***"
      ]
    },
    {
      "cell_type": "markdown",
      "metadata": {
        "id": "2vdUVEXu-nAq"
      },
      "source": [
        "\n",
        "* Columns `[\"PatientId\",     \"AppointmentID\"]` are useless\n",
        "\n",
        "* Column `[\"Handcap\"]` name needs fixing \n",
        "\n",
        "* **ScheduledDay, AppointmentDay** types need to be changed\n",
        "\n",
        "* Each column contains 1 NAN value except PatientId\n",
        "\n",
        "* There is no Duplicate rows\n"
      ]
    },
    {
      "cell_type": "markdown",
      "metadata": {
        "id": "_UEnDKeZ7RJN"
      },
      "source": [
        "## **Data Cleaning**"
      ]
    },
    {
      "cell_type": "markdown",
      "metadata": {
        "id": "haSZK-yK4-ZG"
      },
      "source": [
        "### **1. Remove usless columns**\n"
      ]
    },
    {
      "cell_type": "markdown",
      "metadata": {
        "id": "EBTUYhFn5okx"
      },
      "source": [
        "Columns:\n",
        "```\n",
        "[\"PatientId\", \"AppointmentID\"]\n",
        "```\n",
        "\n",
        "have nothing to do with our analysis.\n",
        "\n",
        "So I'll drop them\n"
      ]
    },
    {
      "cell_type": "code",
      "metadata": {
        "id": "XVZK8-2E37dU"
      },
      "source": [
        "df.drop([\"PatientId\", \"AppointmentID\"], axis = 1,inplace= True)"
      ],
      "execution_count": null,
      "outputs": []
    },
    {
      "cell_type": "code",
      "metadata": {
        "colab": {
          "base_uri": "https://localhost:8080/",
          "height": 313
        },
        "id": "eJJhOsZD7Ds1",
        "outputId": "dcfaf36e-6cd1-4159-f4ab-9040716f74d8"
      },
      "source": [
        "df.head()"
      ],
      "execution_count": null,
      "outputs": [
        {
          "output_type": "execute_result",
          "data": {
            "text/html": [
              "<div>\n",
              "<style scoped>\n",
              "    .dataframe tbody tr th:only-of-type {\n",
              "        vertical-align: middle;\n",
              "    }\n",
              "\n",
              "    .dataframe tbody tr th {\n",
              "        vertical-align: top;\n",
              "    }\n",
              "\n",
              "    .dataframe thead th {\n",
              "        text-align: right;\n",
              "    }\n",
              "</style>\n",
              "<table border=\"1\" class=\"dataframe\">\n",
              "  <thead>\n",
              "    <tr style=\"text-align: right;\">\n",
              "      <th></th>\n",
              "      <th>Gender</th>\n",
              "      <th>ScheduledDay</th>\n",
              "      <th>AppointmentDay</th>\n",
              "      <th>Age</th>\n",
              "      <th>Neighbourhood</th>\n",
              "      <th>Scholarship</th>\n",
              "      <th>Hipertension</th>\n",
              "      <th>Diabetes</th>\n",
              "      <th>Alcoholism</th>\n",
              "      <th>Handcap</th>\n",
              "      <th>SMS_received</th>\n",
              "      <th>No-show</th>\n",
              "    </tr>\n",
              "  </thead>\n",
              "  <tbody>\n",
              "    <tr>\n",
              "      <th>0</th>\n",
              "      <td>F</td>\n",
              "      <td>2016-04-29T18:38:08Z</td>\n",
              "      <td>2016-04-29T00:00:00Z</td>\n",
              "      <td>62</td>\n",
              "      <td>JARDIM DA PENHA</td>\n",
              "      <td>0</td>\n",
              "      <td>1</td>\n",
              "      <td>0</td>\n",
              "      <td>0</td>\n",
              "      <td>0</td>\n",
              "      <td>0</td>\n",
              "      <td>No</td>\n",
              "    </tr>\n",
              "    <tr>\n",
              "      <th>1</th>\n",
              "      <td>M</td>\n",
              "      <td>2016-04-29T16:08:27Z</td>\n",
              "      <td>2016-04-29T00:00:00Z</td>\n",
              "      <td>56</td>\n",
              "      <td>JARDIM DA PENHA</td>\n",
              "      <td>0</td>\n",
              "      <td>0</td>\n",
              "      <td>0</td>\n",
              "      <td>0</td>\n",
              "      <td>0</td>\n",
              "      <td>0</td>\n",
              "      <td>No</td>\n",
              "    </tr>\n",
              "    <tr>\n",
              "      <th>2</th>\n",
              "      <td>F</td>\n",
              "      <td>2016-04-29T16:19:04Z</td>\n",
              "      <td>2016-04-29T00:00:00Z</td>\n",
              "      <td>62</td>\n",
              "      <td>MATA DA PRAIA</td>\n",
              "      <td>0</td>\n",
              "      <td>0</td>\n",
              "      <td>0</td>\n",
              "      <td>0</td>\n",
              "      <td>0</td>\n",
              "      <td>0</td>\n",
              "      <td>No</td>\n",
              "    </tr>\n",
              "    <tr>\n",
              "      <th>3</th>\n",
              "      <td>F</td>\n",
              "      <td>2016-04-29T17:29:31Z</td>\n",
              "      <td>2016-04-29T00:00:00Z</td>\n",
              "      <td>8</td>\n",
              "      <td>PONTAL DE CAMBURI</td>\n",
              "      <td>0</td>\n",
              "      <td>0</td>\n",
              "      <td>0</td>\n",
              "      <td>0</td>\n",
              "      <td>0</td>\n",
              "      <td>0</td>\n",
              "      <td>No</td>\n",
              "    </tr>\n",
              "    <tr>\n",
              "      <th>4</th>\n",
              "      <td>F</td>\n",
              "      <td>2016-04-29T16:07:23Z</td>\n",
              "      <td>2016-04-29T00:00:00Z</td>\n",
              "      <td>56</td>\n",
              "      <td>JARDIM DA PENHA</td>\n",
              "      <td>0</td>\n",
              "      <td>1</td>\n",
              "      <td>1</td>\n",
              "      <td>0</td>\n",
              "      <td>0</td>\n",
              "      <td>0</td>\n",
              "      <td>No</td>\n",
              "    </tr>\n",
              "  </tbody>\n",
              "</table>\n",
              "</div>"
            ],
            "text/plain": [
              "  Gender          ScheduledDay  ... SMS_received  No-show\n",
              "0      F  2016-04-29T18:38:08Z  ...            0       No\n",
              "1      M  2016-04-29T16:08:27Z  ...            0       No\n",
              "2      F  2016-04-29T16:19:04Z  ...            0       No\n",
              "3      F  2016-04-29T17:29:31Z  ...            0       No\n",
              "4      F  2016-04-29T16:07:23Z  ...            0       No\n",
              "\n",
              "[5 rows x 12 columns]"
            ]
          },
          "metadata": {},
          "execution_count": 8
        }
      ]
    },
    {
      "cell_type": "code",
      "metadata": {
        "colab": {
          "base_uri": "https://localhost:8080/"
        },
        "id": "2KJX35Vx7taw",
        "outputId": "ebfb9aa9-694c-4ec8-d0c8-3ede3c7e058c"
      },
      "source": [
        "df.info()"
      ],
      "execution_count": null,
      "outputs": [
        {
          "output_type": "stream",
          "name": "stdout",
          "text": [
            "<class 'pandas.core.frame.DataFrame'>\n",
            "RangeIndex: 110527 entries, 0 to 110526\n",
            "Data columns (total 12 columns):\n",
            " #   Column          Non-Null Count   Dtype \n",
            "---  ------          --------------   ----- \n",
            " 0   Gender          110527 non-null  object\n",
            " 1   ScheduledDay    110527 non-null  object\n",
            " 2   AppointmentDay  110527 non-null  object\n",
            " 3   Age             110527 non-null  int64 \n",
            " 4   Neighbourhood   110527 non-null  object\n",
            " 5   Scholarship     110527 non-null  int64 \n",
            " 6   Hipertension    110527 non-null  int64 \n",
            " 7   Diabetes        110527 non-null  int64 \n",
            " 8   Alcoholism      110527 non-null  int64 \n",
            " 9   Handcap         110527 non-null  int64 \n",
            " 10  SMS_received    110527 non-null  int64 \n",
            " 11  No-show         110527 non-null  object\n",
            "dtypes: int64(7), object(5)\n",
            "memory usage: 10.1+ MB\n"
          ]
        }
      ]
    },
    {
      "cell_type": "markdown",
      "metadata": {
        "id": "BJ_LNsy-uY9-"
      },
      "source": [
        "### **2. Handle wrong formats**\n"
      ]
    },
    {
      "cell_type": "markdown",
      "metadata": {
        "id": "JqNAHNAM0XmJ"
      },
      "source": [
        "ScheduledDay, AppointmentDay are formatted as object\n",
        "\n",
        "I'll convert them to date_time format"
      ]
    },
    {
      "cell_type": "code",
      "metadata": {
        "colab": {
          "base_uri": "https://localhost:8080/"
        },
        "id": "Mf1_9VdP0eE7",
        "outputId": "35972a9a-685f-4c18-ab40-42b8347a7b98"
      },
      "source": [
        "df.info()"
      ],
      "execution_count": null,
      "outputs": [
        {
          "output_type": "stream",
          "name": "stdout",
          "text": [
            "<class 'pandas.core.frame.DataFrame'>\n",
            "RangeIndex: 110527 entries, 0 to 110526\n",
            "Data columns (total 12 columns):\n",
            " #   Column          Non-Null Count   Dtype \n",
            "---  ------          --------------   ----- \n",
            " 0   Gender          110527 non-null  object\n",
            " 1   ScheduledDay    110527 non-null  object\n",
            " 2   AppointmentDay  110527 non-null  object\n",
            " 3   Age             110527 non-null  int64 \n",
            " 4   Neighbourhood   110527 non-null  object\n",
            " 5   Scholarship     110527 non-null  int64 \n",
            " 6   Hipertension    110527 non-null  int64 \n",
            " 7   Diabetes        110527 non-null  int64 \n",
            " 8   Alcoholism      110527 non-null  int64 \n",
            " 9   Handcap         110527 non-null  int64 \n",
            " 10  SMS_received    110527 non-null  int64 \n",
            " 11  No-show         110527 non-null  object\n",
            "dtypes: int64(7), object(5)\n",
            "memory usage: 10.1+ MB\n"
          ]
        }
      ]
    },
    {
      "cell_type": "code",
      "metadata": {
        "id": "ZGld6EFE5IlO"
      },
      "source": [
        "df['ScheduledDay'] = pd.to_datetime(df['ScheduledDay'])\n",
        "df['AppointmentDay'] = pd.to_datetime(df['AppointmentDay'])"
      ],
      "execution_count": null,
      "outputs": []
    },
    {
      "cell_type": "code",
      "metadata": {
        "colab": {
          "base_uri": "https://localhost:8080/"
        },
        "id": "HTFUtT3EuuOD",
        "outputId": "9a8d1a8c-3bd0-4681-a0d8-beab956cad71"
      },
      "source": [
        "df.info()"
      ],
      "execution_count": null,
      "outputs": [
        {
          "output_type": "stream",
          "name": "stdout",
          "text": [
            "<class 'pandas.core.frame.DataFrame'>\n",
            "RangeIndex: 110527 entries, 0 to 110526\n",
            "Data columns (total 12 columns):\n",
            " #   Column          Non-Null Count   Dtype              \n",
            "---  ------          --------------   -----              \n",
            " 0   Gender          110527 non-null  object             \n",
            " 1   ScheduledDay    110527 non-null  datetime64[ns, UTC]\n",
            " 2   AppointmentDay  110527 non-null  datetime64[ns, UTC]\n",
            " 3   Age             110527 non-null  int64              \n",
            " 4   Neighbourhood   110527 non-null  object             \n",
            " 5   Scholarship     110527 non-null  int64              \n",
            " 6   Hipertension    110527 non-null  int64              \n",
            " 7   Diabetes        110527 non-null  int64              \n",
            " 8   Alcoholism      110527 non-null  int64              \n",
            " 9   Handcap         110527 non-null  int64              \n",
            " 10  SMS_received    110527 non-null  int64              \n",
            " 11  No-show         110527 non-null  object             \n",
            "dtypes: datetime64[ns, UTC](2), int64(7), object(3)\n",
            "memory usage: 10.1+ MB\n"
          ]
        }
      ]
    },
    {
      "cell_type": "markdown",
      "metadata": {
        "id": "SPVyFMX0wJnz"
      },
      "source": [
        "### **3. Handle NAN Values**"
      ]
    },
    {
      "cell_type": "code",
      "metadata": {
        "colab": {
          "base_uri": "https://localhost:8080/"
        },
        "id": "nqUHm9_TONNh",
        "outputId": "d9f7791d-d628-4088-8355-6e4ad9c640fe"
      },
      "source": [
        "df.isnull().sum()"
      ],
      "execution_count": null,
      "outputs": [
        {
          "output_type": "execute_result",
          "data": {
            "text/plain": [
              "Gender            0\n",
              "ScheduledDay      0\n",
              "AppointmentDay    0\n",
              "Age               0\n",
              "Neighbourhood     0\n",
              "Scholarship       0\n",
              "Hipertension      0\n",
              "Diabetes          0\n",
              "Alcoholism        0\n",
              "Handcap           0\n",
              "SMS_received      0\n",
              "No-show           0\n",
              "dtype: int64"
            ]
          },
          "metadata": {},
          "execution_count": 13
        }
      ]
    },
    {
      "cell_type": "markdown",
      "metadata": {
        "id": "V9r208zBOhHa"
      },
      "source": [
        "Age missing value can be filled with the mean"
      ]
    },
    {
      "cell_type": "code",
      "metadata": {
        "id": "s02EU0udO4yH"
      },
      "source": [
        "df['Age'] = df['Age'].fillna(df['Age'].mean())"
      ],
      "execution_count": null,
      "outputs": []
    },
    {
      "cell_type": "code",
      "metadata": {
        "colab": {
          "base_uri": "https://localhost:8080/"
        },
        "id": "DYFNcu67PMqr",
        "outputId": "ff99f404-b48f-44d6-ad30-2aecc32e8fd0"
      },
      "source": [
        "df.isnull().sum()"
      ],
      "execution_count": null,
      "outputs": [
        {
          "output_type": "execute_result",
          "data": {
            "text/plain": [
              "Gender            0\n",
              "ScheduledDay      0\n",
              "AppointmentDay    0\n",
              "Age               0\n",
              "Neighbourhood     0\n",
              "Scholarship       0\n",
              "Hipertension      0\n",
              "Diabetes          0\n",
              "Alcoholism        0\n",
              "Handcap           0\n",
              "SMS_received      0\n",
              "No-show           0\n",
              "dtype: int64"
            ]
          },
          "metadata": {},
          "execution_count": 15
        }
      ]
    },
    {
      "cell_type": "code",
      "metadata": {
        "colab": {
          "base_uri": "https://localhost:8080/"
        },
        "id": "KlSxKkPUwDaN",
        "outputId": "7ef5157b-d7bc-4cbc-c2c8-93668f6a28e3"
      },
      "source": [
        "df.isnull().sum().sum()"
      ],
      "execution_count": null,
      "outputs": [
        {
          "output_type": "execute_result",
          "data": {
            "text/plain": [
              "0"
            ]
          },
          "metadata": {},
          "execution_count": 16
        }
      ]
    },
    {
      "cell_type": "markdown",
      "metadata": {
        "id": "8vw0iZVExTi7"
      },
      "source": [
        "11 rows that have missing values will not have a great impact on the analysis ( considering that we have 110527 rows) ,\n",
        "\n",
        " So, we can fill them with the mode or drop them. \n",
        "\n",
        "I'm choosing to drop them"
      ]
    },
    {
      "cell_type": "code",
      "metadata": {
        "id": "H7JSoDbzwsXn"
      },
      "source": [
        "df.dropna(axis= 0 , inplace = True)"
      ],
      "execution_count": null,
      "outputs": []
    },
    {
      "cell_type": "code",
      "metadata": {
        "colab": {
          "base_uri": "https://localhost:8080/"
        },
        "id": "UqH8OQKcx_Jl",
        "outputId": "c492a9bf-98fb-4eef-fa7b-1bf86ad2bf22"
      },
      "source": [
        "df.isnull().sum()"
      ],
      "execution_count": null,
      "outputs": [
        {
          "output_type": "execute_result",
          "data": {
            "text/plain": [
              "Gender            0\n",
              "ScheduledDay      0\n",
              "AppointmentDay    0\n",
              "Age               0\n",
              "Neighbourhood     0\n",
              "Scholarship       0\n",
              "Hipertension      0\n",
              "Diabetes          0\n",
              "Alcoholism        0\n",
              "Handcap           0\n",
              "SMS_received      0\n",
              "No-show           0\n",
              "dtype: int64"
            ]
          },
          "metadata": {},
          "execution_count": 18
        }
      ]
    },
    {
      "cell_type": "markdown",
      "metadata": {
        "id": "BJsHQzzCvRO0"
      },
      "source": [
        "## **preparing the data for the analysis**"
      ]
    },
    {
      "cell_type": "code",
      "metadata": {
        "colab": {
          "base_uri": "https://localhost:8080/",
          "height": 136
        },
        "id": "ah4bQ64YulbY",
        "outputId": "71d93fa8-c133-4f0c-d5d3-842ed517428f"
      },
      "source": [
        "df.head(1)"
      ],
      "execution_count": null,
      "outputs": [
        {
          "output_type": "execute_result",
          "data": {
            "text/html": [
              "<div>\n",
              "<style scoped>\n",
              "    .dataframe tbody tr th:only-of-type {\n",
              "        vertical-align: middle;\n",
              "    }\n",
              "\n",
              "    .dataframe tbody tr th {\n",
              "        vertical-align: top;\n",
              "    }\n",
              "\n",
              "    .dataframe thead th {\n",
              "        text-align: right;\n",
              "    }\n",
              "</style>\n",
              "<table border=\"1\" class=\"dataframe\">\n",
              "  <thead>\n",
              "    <tr style=\"text-align: right;\">\n",
              "      <th></th>\n",
              "      <th>Gender</th>\n",
              "      <th>ScheduledDay</th>\n",
              "      <th>AppointmentDay</th>\n",
              "      <th>Age</th>\n",
              "      <th>Neighbourhood</th>\n",
              "      <th>Scholarship</th>\n",
              "      <th>Hipertension</th>\n",
              "      <th>Diabetes</th>\n",
              "      <th>Alcoholism</th>\n",
              "      <th>Handcap</th>\n",
              "      <th>SMS_received</th>\n",
              "      <th>No-show</th>\n",
              "    </tr>\n",
              "  </thead>\n",
              "  <tbody>\n",
              "    <tr>\n",
              "      <th>0</th>\n",
              "      <td>F</td>\n",
              "      <td>2016-04-29 18:38:08+00:00</td>\n",
              "      <td>2016-04-29 00:00:00+00:00</td>\n",
              "      <td>62</td>\n",
              "      <td>JARDIM DA PENHA</td>\n",
              "      <td>0</td>\n",
              "      <td>1</td>\n",
              "      <td>0</td>\n",
              "      <td>0</td>\n",
              "      <td>0</td>\n",
              "      <td>0</td>\n",
              "      <td>No</td>\n",
              "    </tr>\n",
              "  </tbody>\n",
              "</table>\n",
              "</div>"
            ],
            "text/plain": [
              "  Gender              ScheduledDay  ... SMS_received  No-show\n",
              "0      F 2016-04-29 18:38:08+00:00  ...            0       No\n",
              "\n",
              "[1 rows x 12 columns]"
            ]
          },
          "metadata": {},
          "execution_count": 19
        }
      ]
    },
    {
      "cell_type": "code",
      "metadata": {
        "colab": {
          "base_uri": "https://localhost:8080/",
          "height": 300
        },
        "id": "anZTRcdX1hfo",
        "outputId": "45a6f999-e6d9-4ce3-c2e2-206624a6fbae"
      },
      "source": [
        "df.describe()"
      ],
      "execution_count": null,
      "outputs": [
        {
          "output_type": "execute_result",
          "data": {
            "text/html": [
              "<div>\n",
              "<style scoped>\n",
              "    .dataframe tbody tr th:only-of-type {\n",
              "        vertical-align: middle;\n",
              "    }\n",
              "\n",
              "    .dataframe tbody tr th {\n",
              "        vertical-align: top;\n",
              "    }\n",
              "\n",
              "    .dataframe thead th {\n",
              "        text-align: right;\n",
              "    }\n",
              "</style>\n",
              "<table border=\"1\" class=\"dataframe\">\n",
              "  <thead>\n",
              "    <tr style=\"text-align: right;\">\n",
              "      <th></th>\n",
              "      <th>Age</th>\n",
              "      <th>Scholarship</th>\n",
              "      <th>Hipertension</th>\n",
              "      <th>Diabetes</th>\n",
              "      <th>Alcoholism</th>\n",
              "      <th>Handcap</th>\n",
              "      <th>SMS_received</th>\n",
              "    </tr>\n",
              "  </thead>\n",
              "  <tbody>\n",
              "    <tr>\n",
              "      <th>count</th>\n",
              "      <td>110527.000000</td>\n",
              "      <td>110527.000000</td>\n",
              "      <td>110527.000000</td>\n",
              "      <td>110527.000000</td>\n",
              "      <td>110527.000000</td>\n",
              "      <td>110527.000000</td>\n",
              "      <td>110527.000000</td>\n",
              "    </tr>\n",
              "    <tr>\n",
              "      <th>mean</th>\n",
              "      <td>37.088874</td>\n",
              "      <td>0.098266</td>\n",
              "      <td>0.197246</td>\n",
              "      <td>0.071865</td>\n",
              "      <td>0.030400</td>\n",
              "      <td>0.022248</td>\n",
              "      <td>0.321026</td>\n",
              "    </tr>\n",
              "    <tr>\n",
              "      <th>std</th>\n",
              "      <td>23.110205</td>\n",
              "      <td>0.297675</td>\n",
              "      <td>0.397921</td>\n",
              "      <td>0.258265</td>\n",
              "      <td>0.171686</td>\n",
              "      <td>0.161543</td>\n",
              "      <td>0.466873</td>\n",
              "    </tr>\n",
              "    <tr>\n",
              "      <th>min</th>\n",
              "      <td>-1.000000</td>\n",
              "      <td>0.000000</td>\n",
              "      <td>0.000000</td>\n",
              "      <td>0.000000</td>\n",
              "      <td>0.000000</td>\n",
              "      <td>0.000000</td>\n",
              "      <td>0.000000</td>\n",
              "    </tr>\n",
              "    <tr>\n",
              "      <th>25%</th>\n",
              "      <td>18.000000</td>\n",
              "      <td>0.000000</td>\n",
              "      <td>0.000000</td>\n",
              "      <td>0.000000</td>\n",
              "      <td>0.000000</td>\n",
              "      <td>0.000000</td>\n",
              "      <td>0.000000</td>\n",
              "    </tr>\n",
              "    <tr>\n",
              "      <th>50%</th>\n",
              "      <td>37.000000</td>\n",
              "      <td>0.000000</td>\n",
              "      <td>0.000000</td>\n",
              "      <td>0.000000</td>\n",
              "      <td>0.000000</td>\n",
              "      <td>0.000000</td>\n",
              "      <td>0.000000</td>\n",
              "    </tr>\n",
              "    <tr>\n",
              "      <th>75%</th>\n",
              "      <td>55.000000</td>\n",
              "      <td>0.000000</td>\n",
              "      <td>0.000000</td>\n",
              "      <td>0.000000</td>\n",
              "      <td>0.000000</td>\n",
              "      <td>0.000000</td>\n",
              "      <td>1.000000</td>\n",
              "    </tr>\n",
              "    <tr>\n",
              "      <th>max</th>\n",
              "      <td>115.000000</td>\n",
              "      <td>1.000000</td>\n",
              "      <td>1.000000</td>\n",
              "      <td>1.000000</td>\n",
              "      <td>1.000000</td>\n",
              "      <td>4.000000</td>\n",
              "      <td>1.000000</td>\n",
              "    </tr>\n",
              "  </tbody>\n",
              "</table>\n",
              "</div>"
            ],
            "text/plain": [
              "                 Age    Scholarship  ...        Handcap   SMS_received\n",
              "count  110527.000000  110527.000000  ...  110527.000000  110527.000000\n",
              "mean       37.088874       0.098266  ...       0.022248       0.321026\n",
              "std        23.110205       0.297675  ...       0.161543       0.466873\n",
              "min        -1.000000       0.000000  ...       0.000000       0.000000\n",
              "25%        18.000000       0.000000  ...       0.000000       0.000000\n",
              "50%        37.000000       0.000000  ...       0.000000       0.000000\n",
              "75%        55.000000       0.000000  ...       0.000000       1.000000\n",
              "max       115.000000       1.000000  ...       4.000000       1.000000\n",
              "\n",
              "[8 rows x 7 columns]"
            ]
          },
          "metadata": {},
          "execution_count": 20
        }
      ]
    },
    {
      "cell_type": "markdown",
      "metadata": {
        "id": "rNrDi4XQ1siw"
      },
      "source": [
        "**Note1:** Age column has value = -1 !!!\n",
        "\n",
        "\n",
        "---\n",
        "**Note2:** we don't have the most common hour, day, or month for scheduel day or appointment day\n",
        "\n",
        "\n",
        "---\n",
        "**Note3:** Handcap has Value = 4 !!! (which makes no sense as this column must include True or False only)\n",
        "\n",
        "---"
      ]
    },
    {
      "cell_type": "markdown",
      "metadata": {
        "id": "M8-2TyUxXHS5"
      },
      "source": [
        "### 1.fixing the Age error"
      ]
    },
    {
      "cell_type": "code",
      "metadata": {
        "id": "Bk0aroZnXMMR"
      },
      "source": [
        "df= df[df['Age']>=0]"
      ],
      "execution_count": null,
      "outputs": []
    },
    {
      "cell_type": "code",
      "metadata": {
        "colab": {
          "base_uri": "https://localhost:8080/"
        },
        "id": "88Ird_edXXIf",
        "outputId": "51bd370d-7a08-4585-a68d-541e5071e672"
      },
      "source": [
        "df.describe()"
      ],
      "execution_count": null,
      "outputs": [
        {
          "output_type": "execute_result",
          "data": {
            "text/html": [
              "<div>\n",
              "<style scoped>\n",
              "    .dataframe tbody tr th:only-of-type {\n",
              "        vertical-align: middle;\n",
              "    }\n",
              "\n",
              "    .dataframe tbody tr th {\n",
              "        vertical-align: top;\n",
              "    }\n",
              "\n",
              "    .dataframe thead th {\n",
              "        text-align: right;\n",
              "    }\n",
              "</style>\n",
              "<table border=\"1\" class=\"dataframe\">\n",
              "  <thead>\n",
              "    <tr style=\"text-align: right;\">\n",
              "      <th></th>\n",
              "      <th>Age</th>\n",
              "      <th>Scholarship</th>\n",
              "      <th>Hipertension</th>\n",
              "      <th>Diabetes</th>\n",
              "      <th>Alcoholism</th>\n",
              "      <th>Handcap</th>\n",
              "      <th>SMS_received</th>\n",
              "    </tr>\n",
              "  </thead>\n",
              "  <tbody>\n",
              "    <tr>\n",
              "      <th>count</th>\n",
              "      <td>110526.000000</td>\n",
              "      <td>110526.000000</td>\n",
              "      <td>110526.000000</td>\n",
              "      <td>110526.000000</td>\n",
              "      <td>110526.000000</td>\n",
              "      <td>110526.000000</td>\n",
              "      <td>110526.000000</td>\n",
              "    </tr>\n",
              "    <tr>\n",
              "      <th>mean</th>\n",
              "      <td>37.089219</td>\n",
              "      <td>0.098266</td>\n",
              "      <td>0.197248</td>\n",
              "      <td>0.071865</td>\n",
              "      <td>0.030400</td>\n",
              "      <td>0.022248</td>\n",
              "      <td>0.321029</td>\n",
              "    </tr>\n",
              "    <tr>\n",
              "      <th>std</th>\n",
              "      <td>23.110026</td>\n",
              "      <td>0.297676</td>\n",
              "      <td>0.397923</td>\n",
              "      <td>0.258266</td>\n",
              "      <td>0.171686</td>\n",
              "      <td>0.161543</td>\n",
              "      <td>0.466874</td>\n",
              "    </tr>\n",
              "    <tr>\n",
              "      <th>min</th>\n",
              "      <td>0.000000</td>\n",
              "      <td>0.000000</td>\n",
              "      <td>0.000000</td>\n",
              "      <td>0.000000</td>\n",
              "      <td>0.000000</td>\n",
              "      <td>0.000000</td>\n",
              "      <td>0.000000</td>\n",
              "    </tr>\n",
              "    <tr>\n",
              "      <th>25%</th>\n",
              "      <td>18.000000</td>\n",
              "      <td>0.000000</td>\n",
              "      <td>0.000000</td>\n",
              "      <td>0.000000</td>\n",
              "      <td>0.000000</td>\n",
              "      <td>0.000000</td>\n",
              "      <td>0.000000</td>\n",
              "    </tr>\n",
              "    <tr>\n",
              "      <th>50%</th>\n",
              "      <td>37.000000</td>\n",
              "      <td>0.000000</td>\n",
              "      <td>0.000000</td>\n",
              "      <td>0.000000</td>\n",
              "      <td>0.000000</td>\n",
              "      <td>0.000000</td>\n",
              "      <td>0.000000</td>\n",
              "    </tr>\n",
              "    <tr>\n",
              "      <th>75%</th>\n",
              "      <td>55.000000</td>\n",
              "      <td>0.000000</td>\n",
              "      <td>0.000000</td>\n",
              "      <td>0.000000</td>\n",
              "      <td>0.000000</td>\n",
              "      <td>0.000000</td>\n",
              "      <td>1.000000</td>\n",
              "    </tr>\n",
              "    <tr>\n",
              "      <th>max</th>\n",
              "      <td>115.000000</td>\n",
              "      <td>1.000000</td>\n",
              "      <td>1.000000</td>\n",
              "      <td>1.000000</td>\n",
              "      <td>1.000000</td>\n",
              "      <td>4.000000</td>\n",
              "      <td>1.000000</td>\n",
              "    </tr>\n",
              "  </tbody>\n",
              "</table>\n",
              "</div>"
            ],
            "text/plain": [
              "                 Age    Scholarship  ...        Handcap   SMS_received\n",
              "count  110526.000000  110526.000000  ...  110526.000000  110526.000000\n",
              "mean       37.089219       0.098266  ...       0.022248       0.321029\n",
              "std        23.110026       0.297676  ...       0.161543       0.466874\n",
              "min         0.000000       0.000000  ...       0.000000       0.000000\n",
              "25%        18.000000       0.000000  ...       0.000000       0.000000\n",
              "50%        37.000000       0.000000  ...       0.000000       0.000000\n",
              "75%        55.000000       0.000000  ...       0.000000       1.000000\n",
              "max       115.000000       1.000000  ...       4.000000       1.000000\n",
              "\n",
              "[8 rows x 7 columns]"
            ]
          },
          "metadata": {},
          "execution_count": 22
        }
      ]
    },
    {
      "cell_type": "markdown",
      "metadata": {
        "id": "iUXEwesrX7kp"
      },
      "source": [
        "### 2. Adding ScheduledDay and AppointmentDay most common hour, day, and month"
      ]
    },
    {
      "cell_type": "markdown",
      "metadata": {
        "id": "CdXJAp5_bXDV"
      },
      "source": [
        "Let's create columns for the hours, days, and months for both schedule and appointments"
      ]
    },
    {
      "cell_type": "code",
      "metadata": {
        "colab": {
          "base_uri": "https://localhost:8080/"
        },
        "id": "E3L3BNYUaD2a",
        "outputId": "ed2b7d6f-a289-43b2-f1f4-9e235139b813"
      },
      "source": [
        "df['Scheduled_hour'] = df['ScheduledDay'].dt.hour\n",
        "df['Scheduled_Day'] = df['ScheduledDay'].dt.day_name()\n",
        "df['Scheduled_month'] = df['ScheduledDay'].dt.month\n",
        "df['Scheduled_year'] = df['ScheduledDay'].dt.year"
      ],
      "execution_count": null,
      "outputs": [
        {
          "output_type": "stream",
          "name": "stderr",
          "text": [
            "/usr/local/lib/python3.7/dist-packages/ipykernel_launcher.py:1: SettingWithCopyWarning: \n",
            "A value is trying to be set on a copy of a slice from a DataFrame.\n",
            "Try using .loc[row_indexer,col_indexer] = value instead\n",
            "\n",
            "See the caveats in the documentation: https://pandas.pydata.org/pandas-docs/stable/user_guide/indexing.html#returning-a-view-versus-a-copy\n",
            "  \"\"\"Entry point for launching an IPython kernel.\n",
            "/usr/local/lib/python3.7/dist-packages/ipykernel_launcher.py:2: SettingWithCopyWarning: \n",
            "A value is trying to be set on a copy of a slice from a DataFrame.\n",
            "Try using .loc[row_indexer,col_indexer] = value instead\n",
            "\n",
            "See the caveats in the documentation: https://pandas.pydata.org/pandas-docs/stable/user_guide/indexing.html#returning-a-view-versus-a-copy\n",
            "  \n"
          ]
        }
      ]
    },
    {
      "cell_type": "code",
      "metadata": {
        "id": "r6RjLuidYR4q"
      },
      "source": [
        "df['Appointment_hour'] = df['AppointmentDay'].dt.hour\n",
        "df['Appointment_Day'] = df['AppointmentDay'].dt.day_name()\n",
        "df['Appointment_month'] = df['AppointmentDay'].dt.month\n",
        "df['Appointment_year'] = df['AppointmentDay'].dt.year"
      ],
      "execution_count": null,
      "outputs": []
    },
    {
      "cell_type": "code",
      "metadata": {
        "colab": {
          "base_uri": "https://localhost:8080/",
          "height": 300
        },
        "id": "TYuizMbgaQyB",
        "outputId": "02e202c4-d3e6-409f-bbc0-e3d0231e61cf"
      },
      "source": [
        "df[['Scheduled_hour','Scheduled_month', 'Scheduled_year', 'Appointment_hour','Appointment_month',\n",
        "    \"Appointment_year\"]].describe() "
      ],
      "execution_count": null,
      "outputs": [
        {
          "output_type": "execute_result",
          "data": {
            "text/html": [
              "<div>\n",
              "<style scoped>\n",
              "    .dataframe tbody tr th:only-of-type {\n",
              "        vertical-align: middle;\n",
              "    }\n",
              "\n",
              "    .dataframe tbody tr th {\n",
              "        vertical-align: top;\n",
              "    }\n",
              "\n",
              "    .dataframe thead th {\n",
              "        text-align: right;\n",
              "    }\n",
              "</style>\n",
              "<table border=\"1\" class=\"dataframe\">\n",
              "  <thead>\n",
              "    <tr style=\"text-align: right;\">\n",
              "      <th></th>\n",
              "      <th>Scheduled_hour</th>\n",
              "      <th>Scheduled_month</th>\n",
              "      <th>Scheduled_year</th>\n",
              "      <th>Appointment_hour</th>\n",
              "      <th>Appointment_month</th>\n",
              "      <th>Appointment_year</th>\n",
              "    </tr>\n",
              "  </thead>\n",
              "  <tbody>\n",
              "    <tr>\n",
              "      <th>count</th>\n",
              "      <td>110526.000000</td>\n",
              "      <td>110526.000000</td>\n",
              "      <td>110526.000000</td>\n",
              "      <td>110526.0</td>\n",
              "      <td>110526.000000</td>\n",
              "      <td>110526.0</td>\n",
              "    </tr>\n",
              "    <tr>\n",
              "      <th>mean</th>\n",
              "      <td>10.774542</td>\n",
              "      <td>4.823860</td>\n",
              "      <td>2015.999439</td>\n",
              "      <td>0.0</td>\n",
              "      <td>5.210041</td>\n",
              "      <td>2016.0</td>\n",
              "    </tr>\n",
              "    <tr>\n",
              "      <th>std</th>\n",
              "      <td>3.216192</td>\n",
              "      <td>0.715795</td>\n",
              "      <td>0.023678</td>\n",
              "      <td>0.0</td>\n",
              "      <td>0.473776</td>\n",
              "      <td>0.0</td>\n",
              "    </tr>\n",
              "    <tr>\n",
              "      <th>min</th>\n",
              "      <td>6.000000</td>\n",
              "      <td>1.000000</td>\n",
              "      <td>2015.000000</td>\n",
              "      <td>0.0</td>\n",
              "      <td>4.000000</td>\n",
              "      <td>2016.0</td>\n",
              "    </tr>\n",
              "    <tr>\n",
              "      <th>25%</th>\n",
              "      <td>8.000000</td>\n",
              "      <td>4.000000</td>\n",
              "      <td>2016.000000</td>\n",
              "      <td>0.0</td>\n",
              "      <td>5.000000</td>\n",
              "      <td>2016.0</td>\n",
              "    </tr>\n",
              "    <tr>\n",
              "      <th>50%</th>\n",
              "      <td>10.000000</td>\n",
              "      <td>5.000000</td>\n",
              "      <td>2016.000000</td>\n",
              "      <td>0.0</td>\n",
              "      <td>5.000000</td>\n",
              "      <td>2016.0</td>\n",
              "    </tr>\n",
              "    <tr>\n",
              "      <th>75%</th>\n",
              "      <td>13.000000</td>\n",
              "      <td>5.000000</td>\n",
              "      <td>2016.000000</td>\n",
              "      <td>0.0</td>\n",
              "      <td>5.000000</td>\n",
              "      <td>2016.0</td>\n",
              "    </tr>\n",
              "    <tr>\n",
              "      <th>max</th>\n",
              "      <td>21.000000</td>\n",
              "      <td>12.000000</td>\n",
              "      <td>2016.000000</td>\n",
              "      <td>0.0</td>\n",
              "      <td>6.000000</td>\n",
              "      <td>2016.0</td>\n",
              "    </tr>\n",
              "  </tbody>\n",
              "</table>\n",
              "</div>"
            ],
            "text/plain": [
              "       Scheduled_hour  Scheduled_month  ...  Appointment_month  Appointment_year\n",
              "count   110526.000000    110526.000000  ...      110526.000000          110526.0\n",
              "mean        10.774542         4.823860  ...           5.210041            2016.0\n",
              "std          3.216192         0.715795  ...           0.473776               0.0\n",
              "min          6.000000         1.000000  ...           4.000000            2016.0\n",
              "25%          8.000000         4.000000  ...           5.000000            2016.0\n",
              "50%         10.000000         5.000000  ...           5.000000            2016.0\n",
              "75%         13.000000         5.000000  ...           5.000000            2016.0\n",
              "max         21.000000        12.000000  ...           6.000000            2016.0\n",
              "\n",
              "[8 rows x 6 columns]"
            ]
          },
          "metadata": {},
          "execution_count": 25
        }
      ]
    },
    {
      "cell_type": "markdown",
      "metadata": {
        "id": "qzCXz_-kcmjW"
      },
      "source": [
        "As we can see, the appointment hours are not provided.\n",
        "\n",
        "So, I'm going to drop the appointment hour column."
      ]
    },
    {
      "cell_type": "code",
      "metadata": {
        "id": "cjF13wPmdE0t"
      },
      "source": [
        "df.drop([\"Appointment_hour\"], axis = 1,inplace= True)"
      ],
      "execution_count": null,
      "outputs": []
    },
    {
      "cell_type": "markdown",
      "metadata": {
        "id": "58smWXkpdTEy"
      },
      "source": [
        "Also, ScheduledDay and AppointmentDay columns (the original columns) are useless now.\n",
        "\n",
        "So, I'm going to drop them."
      ]
    },
    {
      "cell_type": "code",
      "metadata": {
        "id": "dmvGo5OUdRni"
      },
      "source": [
        "df.drop([\"AppointmentDay\", \"ScheduledDay\"], axis = 1,inplace= True)"
      ],
      "execution_count": null,
      "outputs": []
    },
    {
      "cell_type": "code",
      "metadata": {
        "colab": {
          "base_uri": "https://localhost:8080/",
          "height": 320
        },
        "id": "Do5kvh5Zd5aH",
        "outputId": "96623ae8-7c23-4a80-936e-cffb2a5f3402"
      },
      "source": [
        "df.describe()"
      ],
      "execution_count": null,
      "outputs": [
        {
          "output_type": "execute_result",
          "data": {
            "text/html": [
              "<div>\n",
              "<style scoped>\n",
              "    .dataframe tbody tr th:only-of-type {\n",
              "        vertical-align: middle;\n",
              "    }\n",
              "\n",
              "    .dataframe tbody tr th {\n",
              "        vertical-align: top;\n",
              "    }\n",
              "\n",
              "    .dataframe thead th {\n",
              "        text-align: right;\n",
              "    }\n",
              "</style>\n",
              "<table border=\"1\" class=\"dataframe\">\n",
              "  <thead>\n",
              "    <tr style=\"text-align: right;\">\n",
              "      <th></th>\n",
              "      <th>Age</th>\n",
              "      <th>Scholarship</th>\n",
              "      <th>Hipertension</th>\n",
              "      <th>Diabetes</th>\n",
              "      <th>Alcoholism</th>\n",
              "      <th>Handcap</th>\n",
              "      <th>SMS_received</th>\n",
              "      <th>Scheduled_hour</th>\n",
              "      <th>Scheduled_month</th>\n",
              "      <th>Scheduled_year</th>\n",
              "      <th>Appointment_month</th>\n",
              "      <th>Appointment_year</th>\n",
              "    </tr>\n",
              "  </thead>\n",
              "  <tbody>\n",
              "    <tr>\n",
              "      <th>count</th>\n",
              "      <td>110526.000000</td>\n",
              "      <td>110526.000000</td>\n",
              "      <td>110526.000000</td>\n",
              "      <td>110526.000000</td>\n",
              "      <td>110526.000000</td>\n",
              "      <td>110526.000000</td>\n",
              "      <td>110526.000000</td>\n",
              "      <td>110526.000000</td>\n",
              "      <td>110526.000000</td>\n",
              "      <td>110526.000000</td>\n",
              "      <td>110526.000000</td>\n",
              "      <td>110526.0</td>\n",
              "    </tr>\n",
              "    <tr>\n",
              "      <th>mean</th>\n",
              "      <td>37.089219</td>\n",
              "      <td>0.098266</td>\n",
              "      <td>0.197248</td>\n",
              "      <td>0.071865</td>\n",
              "      <td>0.030400</td>\n",
              "      <td>0.022248</td>\n",
              "      <td>0.321029</td>\n",
              "      <td>10.774542</td>\n",
              "      <td>4.823860</td>\n",
              "      <td>2015.999439</td>\n",
              "      <td>5.210041</td>\n",
              "      <td>2016.0</td>\n",
              "    </tr>\n",
              "    <tr>\n",
              "      <th>std</th>\n",
              "      <td>23.110026</td>\n",
              "      <td>0.297676</td>\n",
              "      <td>0.397923</td>\n",
              "      <td>0.258266</td>\n",
              "      <td>0.171686</td>\n",
              "      <td>0.161543</td>\n",
              "      <td>0.466874</td>\n",
              "      <td>3.216192</td>\n",
              "      <td>0.715795</td>\n",
              "      <td>0.023678</td>\n",
              "      <td>0.473776</td>\n",
              "      <td>0.0</td>\n",
              "    </tr>\n",
              "    <tr>\n",
              "      <th>min</th>\n",
              "      <td>0.000000</td>\n",
              "      <td>0.000000</td>\n",
              "      <td>0.000000</td>\n",
              "      <td>0.000000</td>\n",
              "      <td>0.000000</td>\n",
              "      <td>0.000000</td>\n",
              "      <td>0.000000</td>\n",
              "      <td>6.000000</td>\n",
              "      <td>1.000000</td>\n",
              "      <td>2015.000000</td>\n",
              "      <td>4.000000</td>\n",
              "      <td>2016.0</td>\n",
              "    </tr>\n",
              "    <tr>\n",
              "      <th>25%</th>\n",
              "      <td>18.000000</td>\n",
              "      <td>0.000000</td>\n",
              "      <td>0.000000</td>\n",
              "      <td>0.000000</td>\n",
              "      <td>0.000000</td>\n",
              "      <td>0.000000</td>\n",
              "      <td>0.000000</td>\n",
              "      <td>8.000000</td>\n",
              "      <td>4.000000</td>\n",
              "      <td>2016.000000</td>\n",
              "      <td>5.000000</td>\n",
              "      <td>2016.0</td>\n",
              "    </tr>\n",
              "    <tr>\n",
              "      <th>50%</th>\n",
              "      <td>37.000000</td>\n",
              "      <td>0.000000</td>\n",
              "      <td>0.000000</td>\n",
              "      <td>0.000000</td>\n",
              "      <td>0.000000</td>\n",
              "      <td>0.000000</td>\n",
              "      <td>0.000000</td>\n",
              "      <td>10.000000</td>\n",
              "      <td>5.000000</td>\n",
              "      <td>2016.000000</td>\n",
              "      <td>5.000000</td>\n",
              "      <td>2016.0</td>\n",
              "    </tr>\n",
              "    <tr>\n",
              "      <th>75%</th>\n",
              "      <td>55.000000</td>\n",
              "      <td>0.000000</td>\n",
              "      <td>0.000000</td>\n",
              "      <td>0.000000</td>\n",
              "      <td>0.000000</td>\n",
              "      <td>0.000000</td>\n",
              "      <td>1.000000</td>\n",
              "      <td>13.000000</td>\n",
              "      <td>5.000000</td>\n",
              "      <td>2016.000000</td>\n",
              "      <td>5.000000</td>\n",
              "      <td>2016.0</td>\n",
              "    </tr>\n",
              "    <tr>\n",
              "      <th>max</th>\n",
              "      <td>115.000000</td>\n",
              "      <td>1.000000</td>\n",
              "      <td>1.000000</td>\n",
              "      <td>1.000000</td>\n",
              "      <td>1.000000</td>\n",
              "      <td>4.000000</td>\n",
              "      <td>1.000000</td>\n",
              "      <td>21.000000</td>\n",
              "      <td>12.000000</td>\n",
              "      <td>2016.000000</td>\n",
              "      <td>6.000000</td>\n",
              "      <td>2016.0</td>\n",
              "    </tr>\n",
              "  </tbody>\n",
              "</table>\n",
              "</div>"
            ],
            "text/plain": [
              "                 Age    Scholarship  ...  Appointment_month  Appointment_year\n",
              "count  110526.000000  110526.000000  ...      110526.000000          110526.0\n",
              "mean       37.089219       0.098266  ...           5.210041            2016.0\n",
              "std        23.110026       0.297676  ...           0.473776               0.0\n",
              "min         0.000000       0.000000  ...           4.000000            2016.0\n",
              "25%        18.000000       0.000000  ...           5.000000            2016.0\n",
              "50%        37.000000       0.000000  ...           5.000000            2016.0\n",
              "75%        55.000000       0.000000  ...           5.000000            2016.0\n",
              "max       115.000000       1.000000  ...           6.000000            2016.0\n",
              "\n",
              "[8 rows x 12 columns]"
            ]
          },
          "metadata": {},
          "execution_count": 28
        }
      ]
    },
    {
      "cell_type": "markdown",
      "metadata": {
        "id": "iHbw-DYTePsX"
      },
      "source": [
        "### 3. Fixing the No-show column"
      ]
    },
    {
      "cell_type": "markdown",
      "metadata": {
        "id": "15y2f8pgeWuN"
      },
      "source": [
        "The No-show column is a little bit confusing, as if the patient showed up it will give us False, while if he didn't show up it will give us True\n",
        "\n",
        "So, let's fix this"
      ]
    },
    {
      "cell_type": "code",
      "metadata": {
        "colab": {
          "base_uri": "https://localhost:8080/"
        },
        "id": "Kzao6jysgOyD",
        "outputId": "9e266b76-1ff0-4f30-8190-bc636dce372a"
      },
      "source": [
        "df['No-show'].value_counts()"
      ],
      "execution_count": null,
      "outputs": [
        {
          "output_type": "execute_result",
          "data": {
            "text/plain": [
              "No     88207\n",
              "Yes    22319\n",
              "Name: No-show, dtype: int64"
            ]
          },
          "metadata": {},
          "execution_count": 29
        }
      ]
    },
    {
      "cell_type": "code",
      "metadata": {
        "id": "eDMbnPKAff1v"
      },
      "source": [
        "df['No-show'].replace({\"No\": \"Yes\", \"Yes\": \"No\"}, inplace=True)"
      ],
      "execution_count": null,
      "outputs": []
    },
    {
      "cell_type": "markdown",
      "metadata": {
        "id": "hjrvUIbmgFtU"
      },
      "source": [
        "Now let's rename the column to be showed_up"
      ]
    },
    {
      "cell_type": "code",
      "metadata": {
        "id": "FXKYILPjgU3T"
      },
      "source": [
        "df.rename(columns={'No-show': 'showed_up'}, inplace= True)"
      ],
      "execution_count": null,
      "outputs": []
    },
    {
      "cell_type": "code",
      "metadata": {
        "colab": {
          "base_uri": "https://localhost:8080/",
          "height": 296
        },
        "id": "WXJ61DD1g5e5",
        "outputId": "cee11a69-de56-44a4-f5fc-8eb1689e0b6f"
      },
      "source": [
        "df.head()"
      ],
      "execution_count": null,
      "outputs": [
        {
          "output_type": "execute_result",
          "data": {
            "text/html": [
              "<div>\n",
              "<style scoped>\n",
              "    .dataframe tbody tr th:only-of-type {\n",
              "        vertical-align: middle;\n",
              "    }\n",
              "\n",
              "    .dataframe tbody tr th {\n",
              "        vertical-align: top;\n",
              "    }\n",
              "\n",
              "    .dataframe thead th {\n",
              "        text-align: right;\n",
              "    }\n",
              "</style>\n",
              "<table border=\"1\" class=\"dataframe\">\n",
              "  <thead>\n",
              "    <tr style=\"text-align: right;\">\n",
              "      <th></th>\n",
              "      <th>Gender</th>\n",
              "      <th>Age</th>\n",
              "      <th>Neighbourhood</th>\n",
              "      <th>Scholarship</th>\n",
              "      <th>Hipertension</th>\n",
              "      <th>Diabetes</th>\n",
              "      <th>Alcoholism</th>\n",
              "      <th>Handcap</th>\n",
              "      <th>SMS_received</th>\n",
              "      <th>showed_up</th>\n",
              "      <th>Scheduled_hour</th>\n",
              "      <th>Scheduled_Day</th>\n",
              "      <th>Scheduled_month</th>\n",
              "      <th>Scheduled_year</th>\n",
              "      <th>Appointment_Day</th>\n",
              "      <th>Appointment_month</th>\n",
              "      <th>Appointment_year</th>\n",
              "    </tr>\n",
              "  </thead>\n",
              "  <tbody>\n",
              "    <tr>\n",
              "      <th>0</th>\n",
              "      <td>F</td>\n",
              "      <td>62</td>\n",
              "      <td>JARDIM DA PENHA</td>\n",
              "      <td>0</td>\n",
              "      <td>1</td>\n",
              "      <td>0</td>\n",
              "      <td>0</td>\n",
              "      <td>0</td>\n",
              "      <td>0</td>\n",
              "      <td>Yes</td>\n",
              "      <td>18</td>\n",
              "      <td>Friday</td>\n",
              "      <td>4</td>\n",
              "      <td>2016</td>\n",
              "      <td>Friday</td>\n",
              "      <td>4</td>\n",
              "      <td>2016</td>\n",
              "    </tr>\n",
              "    <tr>\n",
              "      <th>1</th>\n",
              "      <td>M</td>\n",
              "      <td>56</td>\n",
              "      <td>JARDIM DA PENHA</td>\n",
              "      <td>0</td>\n",
              "      <td>0</td>\n",
              "      <td>0</td>\n",
              "      <td>0</td>\n",
              "      <td>0</td>\n",
              "      <td>0</td>\n",
              "      <td>Yes</td>\n",
              "      <td>16</td>\n",
              "      <td>Friday</td>\n",
              "      <td>4</td>\n",
              "      <td>2016</td>\n",
              "      <td>Friday</td>\n",
              "      <td>4</td>\n",
              "      <td>2016</td>\n",
              "    </tr>\n",
              "    <tr>\n",
              "      <th>2</th>\n",
              "      <td>F</td>\n",
              "      <td>62</td>\n",
              "      <td>MATA DA PRAIA</td>\n",
              "      <td>0</td>\n",
              "      <td>0</td>\n",
              "      <td>0</td>\n",
              "      <td>0</td>\n",
              "      <td>0</td>\n",
              "      <td>0</td>\n",
              "      <td>Yes</td>\n",
              "      <td>16</td>\n",
              "      <td>Friday</td>\n",
              "      <td>4</td>\n",
              "      <td>2016</td>\n",
              "      <td>Friday</td>\n",
              "      <td>4</td>\n",
              "      <td>2016</td>\n",
              "    </tr>\n",
              "    <tr>\n",
              "      <th>3</th>\n",
              "      <td>F</td>\n",
              "      <td>8</td>\n",
              "      <td>PONTAL DE CAMBURI</td>\n",
              "      <td>0</td>\n",
              "      <td>0</td>\n",
              "      <td>0</td>\n",
              "      <td>0</td>\n",
              "      <td>0</td>\n",
              "      <td>0</td>\n",
              "      <td>Yes</td>\n",
              "      <td>17</td>\n",
              "      <td>Friday</td>\n",
              "      <td>4</td>\n",
              "      <td>2016</td>\n",
              "      <td>Friday</td>\n",
              "      <td>4</td>\n",
              "      <td>2016</td>\n",
              "    </tr>\n",
              "    <tr>\n",
              "      <th>4</th>\n",
              "      <td>F</td>\n",
              "      <td>56</td>\n",
              "      <td>JARDIM DA PENHA</td>\n",
              "      <td>0</td>\n",
              "      <td>1</td>\n",
              "      <td>1</td>\n",
              "      <td>0</td>\n",
              "      <td>0</td>\n",
              "      <td>0</td>\n",
              "      <td>Yes</td>\n",
              "      <td>16</td>\n",
              "      <td>Friday</td>\n",
              "      <td>4</td>\n",
              "      <td>2016</td>\n",
              "      <td>Friday</td>\n",
              "      <td>4</td>\n",
              "      <td>2016</td>\n",
              "    </tr>\n",
              "  </tbody>\n",
              "</table>\n",
              "</div>"
            ],
            "text/plain": [
              "  Gender  Age  ... Appointment_month  Appointment_year\n",
              "0      F   62  ...                 4              2016\n",
              "1      M   56  ...                 4              2016\n",
              "2      F   62  ...                 4              2016\n",
              "3      F    8  ...                 4              2016\n",
              "4      F   56  ...                 4              2016\n",
              "\n",
              "[5 rows x 17 columns]"
            ]
          },
          "metadata": {},
          "execution_count": 32
        }
      ]
    },
    {
      "cell_type": "markdown",
      "metadata": {
        "id": "om-LkPHeiz4w"
      },
      "source": [
        "Now, I think we can start the analysis"
      ]
    },
    {
      "cell_type": "markdown",
      "metadata": {
        "id": "35TD1HzNLdBG"
      },
      "source": [
        "### 4. Fixing the names of the columns which have  wrong spelling "
      ]
    },
    {
      "cell_type": "code",
      "metadata": {
        "colab": {
          "base_uri": "https://localhost:8080/",
          "height": 118
        },
        "id": "hStzGblKLzPO",
        "outputId": "eb791d51-6ae9-4e80-fee3-73365d1a2edf"
      },
      "source": [
        "df.head(1)"
      ],
      "execution_count": null,
      "outputs": [
        {
          "output_type": "execute_result",
          "data": {
            "text/html": [
              "<div>\n",
              "<style scoped>\n",
              "    .dataframe tbody tr th:only-of-type {\n",
              "        vertical-align: middle;\n",
              "    }\n",
              "\n",
              "    .dataframe tbody tr th {\n",
              "        vertical-align: top;\n",
              "    }\n",
              "\n",
              "    .dataframe thead th {\n",
              "        text-align: right;\n",
              "    }\n",
              "</style>\n",
              "<table border=\"1\" class=\"dataframe\">\n",
              "  <thead>\n",
              "    <tr style=\"text-align: right;\">\n",
              "      <th></th>\n",
              "      <th>Gender</th>\n",
              "      <th>Age</th>\n",
              "      <th>Neighbourhood</th>\n",
              "      <th>Scholarship</th>\n",
              "      <th>Hipertension</th>\n",
              "      <th>Diabetes</th>\n",
              "      <th>Alcoholism</th>\n",
              "      <th>Handcap</th>\n",
              "      <th>SMS_received</th>\n",
              "      <th>showed_up</th>\n",
              "      <th>Scheduled_hour</th>\n",
              "      <th>Scheduled_Day</th>\n",
              "      <th>Scheduled_month</th>\n",
              "      <th>Scheduled_year</th>\n",
              "      <th>Appointment_Day</th>\n",
              "      <th>Appointment_month</th>\n",
              "      <th>Appointment_year</th>\n",
              "    </tr>\n",
              "  </thead>\n",
              "  <tbody>\n",
              "    <tr>\n",
              "      <th>0</th>\n",
              "      <td>F</td>\n",
              "      <td>62</td>\n",
              "      <td>JARDIM DA PENHA</td>\n",
              "      <td>0</td>\n",
              "      <td>1</td>\n",
              "      <td>0</td>\n",
              "      <td>0</td>\n",
              "      <td>0</td>\n",
              "      <td>0</td>\n",
              "      <td>Yes</td>\n",
              "      <td>18</td>\n",
              "      <td>Friday</td>\n",
              "      <td>4</td>\n",
              "      <td>2016</td>\n",
              "      <td>Friday</td>\n",
              "      <td>4</td>\n",
              "      <td>2016</td>\n",
              "    </tr>\n",
              "  </tbody>\n",
              "</table>\n",
              "</div>"
            ],
            "text/plain": [
              "  Gender  Age  ... Appointment_month  Appointment_year\n",
              "0      F   62  ...                 4              2016\n",
              "\n",
              "[1 rows x 17 columns]"
            ]
          },
          "metadata": {},
          "execution_count": 67
        }
      ]
    },
    {
      "cell_type": "markdown",
      "metadata": {
        "id": "JPQOJ_TuMHS1"
      },
      "source": [
        "1. Hipertension should be Hypertension\n",
        "2. Handcap should be Handicap"
      ]
    },
    {
      "cell_type": "code",
      "metadata": {
        "id": "1WH09BcuNFzR"
      },
      "source": [
        "df.rename(columns={'Hipertension': 'Hypertension', 'Handcap': 'Handicap'}, inplace= True)"
      ],
      "execution_count": null,
      "outputs": []
    },
    {
      "cell_type": "code",
      "metadata": {
        "colab": {
          "base_uri": "https://localhost:8080/",
          "height": 118
        },
        "id": "Ihaz-RyCNR7U",
        "outputId": "880c369a-164e-4a4b-e733-2a2d4441ac80"
      },
      "source": [
        "df.head(1)"
      ],
      "execution_count": null,
      "outputs": [
        {
          "output_type": "execute_result",
          "data": {
            "text/html": [
              "<div>\n",
              "<style scoped>\n",
              "    .dataframe tbody tr th:only-of-type {\n",
              "        vertical-align: middle;\n",
              "    }\n",
              "\n",
              "    .dataframe tbody tr th {\n",
              "        vertical-align: top;\n",
              "    }\n",
              "\n",
              "    .dataframe thead th {\n",
              "        text-align: right;\n",
              "    }\n",
              "</style>\n",
              "<table border=\"1\" class=\"dataframe\">\n",
              "  <thead>\n",
              "    <tr style=\"text-align: right;\">\n",
              "      <th></th>\n",
              "      <th>Gender</th>\n",
              "      <th>Age</th>\n",
              "      <th>Neighbourhood</th>\n",
              "      <th>Scholarship</th>\n",
              "      <th>Hypertension</th>\n",
              "      <th>Diabetes</th>\n",
              "      <th>Alcoholism</th>\n",
              "      <th>Handicap</th>\n",
              "      <th>SMS_received</th>\n",
              "      <th>showed_up</th>\n",
              "      <th>Scheduled_hour</th>\n",
              "      <th>Scheduled_Day</th>\n",
              "      <th>Scheduled_month</th>\n",
              "      <th>Scheduled_year</th>\n",
              "      <th>Appointment_Day</th>\n",
              "      <th>Appointment_month</th>\n",
              "      <th>Appointment_year</th>\n",
              "    </tr>\n",
              "  </thead>\n",
              "  <tbody>\n",
              "    <tr>\n",
              "      <th>0</th>\n",
              "      <td>F</td>\n",
              "      <td>62</td>\n",
              "      <td>JARDIM DA PENHA</td>\n",
              "      <td>0</td>\n",
              "      <td>1</td>\n",
              "      <td>0</td>\n",
              "      <td>0</td>\n",
              "      <td>0</td>\n",
              "      <td>0</td>\n",
              "      <td>Yes</td>\n",
              "      <td>18</td>\n",
              "      <td>Friday</td>\n",
              "      <td>4</td>\n",
              "      <td>2016</td>\n",
              "      <td>Friday</td>\n",
              "      <td>4</td>\n",
              "      <td>2016</td>\n",
              "    </tr>\n",
              "  </tbody>\n",
              "</table>\n",
              "</div>"
            ],
            "text/plain": [
              "  Gender  Age  ... Appointment_month  Appointment_year\n",
              "0      F   62  ...                 4              2016\n",
              "\n",
              "[1 rows x 17 columns]"
            ]
          },
          "metadata": {},
          "execution_count": 69
        }
      ]
    },
    {
      "cell_type": "markdown",
      "metadata": {
        "id": "mDu4kXOikxRE"
      },
      "source": [
        "# Exploratory Analysis"
      ]
    },
    {
      "cell_type": "code",
      "metadata": {
        "colab": {
          "base_uri": "https://localhost:8080/",
          "height": 280
        },
        "id": "2-7SJ_Qyi9Bn",
        "outputId": "b857a651-cd82-4140-fe37-bb08dfe5bbc1"
      },
      "source": [
        "fig, (ax1, ax2, ax3, ax4, ax5, ax6) = plt.subplots(ncols=6, sharey=True)\n",
        "sns.countplot(x='Scholarship', data=df, hue='showed_up', ax=ax1);\n",
        "sns.countplot(x='Hypertension', data=df, hue='showed_up', ax=ax2);\n",
        "sns.countplot(x='Diabetes', data=df, hue='showed_up', ax=ax3);\n",
        "sns.countplot(x='Alcoholism', data=df, hue='showed_up', ax=ax4);\n",
        "sns.countplot(x='Handicap', data=df, hue='showed_up', ax=ax5);\n",
        "sns.countplot(x='SMS_received', data=df, hue='showed_up', ax=ax6);\n",
        "fig.set_figwidth(12)\n",
        "fig.set_figheight(4)"
      ],
      "execution_count": null,
      "outputs": [
        {
          "output_type": "display_data",
          "data": {
            "image/png": "[encoded data removed]",
            "text/plain": [
              "<Figure size 864x288 with 6 Axes>"
            ]
          },
          "metadata": {
            "needs_background": "light"
          }
        }
      ]
    },
    {
      "cell_type": "code",
      "metadata": {
        "colab": {
          "base_uri": "https://localhost:8080/",
          "height": 363
        },
        "id": "cVsKFgnZ_eeA",
        "outputId": "902e7732-355a-4c06-f525-e67374b1a8de"
      },
      "source": [
        "fig, (ax1, ax2, ax3) = plt.subplots(ncols=3, sharey=True)\n",
        "sns.countplot(x='Scheduled_hour', data=df, hue='showed_up',ax=ax1);\n",
        "sns.countplot(x='Scheduled_Day', data=df, hue='showed_up',ax=ax2);\n",
        "sns.countplot(x='Scheduled_month', data=df, hue='showed_up',ax=ax3);\n",
        "fig.set_figwidth(25)\n",
        "fig.set_figheight(8)"
      ],
      "execution_count": null,
      "outputs": [
        {
          "output_type": "display_data",
          "data": {
            "image/png": "[encoded data removed]",
            "text/plain": [
              "<Figure size 1800x576 with 3 Axes>"
            ]
          },
          "metadata": {
            "needs_background": "light"
          }
        }
      ]
    },
    {
      "cell_type": "code",
      "metadata": {
        "colab": {
          "base_uri": "https://localhost:8080/",
          "height": 280
        },
        "id": "YSIVCOz2FeKk",
        "outputId": "ab0e776c-1651-452b-a99f-51fae926267a"
      },
      "source": [
        "sns.countplot(x='Scheduled_hour', data=df, hue='showed_up');\n",
        "plt.show()"
      ],
      "execution_count": null,
      "outputs": [
        {
          "output_type": "display_data",
          "data": {
            "image/png": "[encoded data removed]",
            "text/plain": [
              "<Figure size 432x288 with 1 Axes>"
            ]
          },
          "metadata": {
            "needs_background": "light"
          }
        }
      ]
    }
  ]
}